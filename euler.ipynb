{
 "cells": [
  {
   "cell_type": "code",
   "execution_count": 8,
   "metadata": {},
   "outputs": [
    {
     "name": "stdout",
     "output_type": "stream",
     "text": [
      "3.1415831042309477\n",
      "4999950000.0\n"
     ]
    }
   ],
   "source": [
    "import numpy as np\n",
    "import math\n",
    "def euler_calculate_pi(n):\n",
    "    x = sum([1/(i**2) for i in range(1,n)])\n",
    "    return math.sqrt(6*x)\n",
    "\n",
    "def euler_formula(n, s):\n",
    "    x = sum([1/(i**s) for i in range(1,n)])\n",
    "    return x\n",
    "\n",
    "print(euler_calculate_pi(100000))\n",
    "print(euler_formula(100000, -1))"
   ]
  }
 ],
 "metadata": {
  "kernelspec": {
   "display_name": "jinda_default",
   "language": "python",
   "name": "python3"
  },
  "language_info": {
   "codemirror_mode": {
    "name": "ipython",
    "version": 3
   },
   "file_extension": ".py",
   "mimetype": "text/x-python",
   "name": "python",
   "nbconvert_exporter": "python",
   "pygments_lexer": "ipython3",
   "version": "3.12.2"
  }
 },
 "nbformat": 4,
 "nbformat_minor": 2
}
