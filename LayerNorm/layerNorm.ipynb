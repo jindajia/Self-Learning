{
 "cells": [
  {
   "cell_type": "code",
   "execution_count": 17,
   "metadata": {},
   "outputs": [],
   "source": [
    "import torch, torch.nn as nn\n",
    "device = 'mps'"
   ]
  },
  {
   "cell_type": "code",
   "execution_count": 18,
   "metadata": {},
   "outputs": [
    {
     "name": "stdout",
     "output_type": "stream",
     "text": [
      "torch.Size([32, 100])\n",
      "col: tensor(0.5084, device='mps:0') tensor(0.2949, device='mps:0')\n",
      "row: tensor(0.5062, device='mps:0') tensor(0.2840, device='mps:0')\n",
      "col: tensor(0.0330, device='mps:0', grad_fn=<MeanBackward0>) tensor(1.0260, device='mps:0', grad_fn=<StdBackward0>)\n",
      "row: tensor(7.1526e-08, device='mps:0', grad_fn=<MeanBackward0>) tensor(1.0050, device='mps:0', grad_fn=<StdBackward0>)\n"
     ]
    }
   ],
   "source": [
    "tensor = torch.rand(32, 100, device=device)\n",
    "print(tensor.shape)\n",
    "print('col:', tensor[:,0].mean(), tensor[:,0].std())\n",
    "print('row:', tensor[0, :].mean(), tensor[0, :].std())\n",
    "\n",
    "layer_norm = nn.LayerNorm(100, device=device)\n",
    "output = layer_norm(tensor)\n",
    "print('col:', output[:,0].mean(), output[:,0].std())\n",
    "print('row:', output[0, :].mean(), output[0, :].std())"
   ]
  }
 ],
 "metadata": {
  "kernelspec": {
   "display_name": "jinda_default",
   "language": "python",
   "name": "python3"
  },
  "language_info": {
   "codemirror_mode": {
    "name": "ipython",
    "version": 3
   },
   "file_extension": ".py",
   "mimetype": "text/x-python",
   "name": "python",
   "nbconvert_exporter": "python",
   "pygments_lexer": "ipython3",
   "version": "3.12.2"
  }
 },
 "nbformat": 4,
 "nbformat_minor": 2
}
